{
 "cells": [
  {
   "cell_type": "markdown",
   "id": "9eefc281",
   "metadata": {},
   "source": [
    "# PANDAS MINI PROJECT"
   ]
  },
  {
   "cell_type": "markdown",
   "id": "10fb9f0e",
   "metadata": {},
   "source": [
    "You have the data for the 100 top-rated movies from the past decade along with various pieces of information about the movie, its actors, and the voters who have rated these movies online. In this assignment, you will try to find some interesting insights into these movies and their voters, using Python."
   ]
  },
  {
   "cell_type": "markdown",
   "id": "3630f292",
   "metadata": {},
   "source": [
    "# Task 1: Reading the data"
   ]
  },
  {
   "cell_type": "markdown",
   "id": "42373a53",
   "metadata": {},
   "source": [
    "### Subtask 1.1: Read the Movies Data.\n",
    "\n",
    "Read the movies data file provided and store it in a dataframe movies."
   ]
  },
  {
   "cell_type": "code",
   "execution_count": null,
   "id": "7f269b5b",
   "metadata": {},
   "outputs": [],
   "source": []
  },
  {
   "cell_type": "markdown",
   "id": "2d4f9672",
   "metadata": {},
   "source": [
    "### Subtask 1.2: Inspect the Dataframe\n",
    "Inspect the dataframe for dimensions, null-values, and summary of different numeric columns."
   ]
  },
  {
   "cell_type": "code",
   "execution_count": null,
   "id": "7940036c",
   "metadata": {},
   "outputs": [],
   "source": []
  },
  {
   "cell_type": "markdown",
   "id": "4a84f4b6",
   "metadata": {},
   "source": [
    "## Task 2: Data Analysis\n",
    "\n",
    "Now that we have loaded the dataset and inspected it, we see that most of the data is in place. As of now, no data cleaning is required, so let's start with some data manipulation, analysis, and visualisation to get various insights about the data."
   ]
  },
  {
   "cell_type": "markdown",
   "id": "c55a51b6",
   "metadata": {},
   "source": [
    "### Subtask 2.1: Reduce those Digits!\n",
    "These numbers in the `budget` and `gross` are too big, compromising its readability. Let's convert the unit of the budget and gross columns from `$` to `million $` first."
   ]
  },
  {
   "cell_type": "code",
   "execution_count": null,
   "id": "e802f6a5",
   "metadata": {},
   "outputs": [],
   "source": []
  },
  {
   "cell_type": "markdown",
   "id": "82ccd14c",
   "metadata": {},
   "source": [
    "### Subtask 2.2: Let's Talk Profit!\n",
    "\n",
    "1. Create a new column called `profit` which contains the difference of the two columns: `gross` and `budget`\n",
    "2. Sort the dataframe using the `profit` column as reference.\n",
    "3. Extract the top ten profiting movies in descending order and store them in a new dataframe named `top10`\n",
    "4. Record your observations\n",
    "5. Extract the movies with a `negative profit` and store them in a new dataframe named `neg_profit`"
   ]
  },
  {
   "cell_type": "code",
   "execution_count": null,
   "id": "17ff36ad",
   "metadata": {},
   "outputs": [],
   "source": []
  },
  {
   "cell_type": "markdown",
   "id": "ecffa809",
   "metadata": {},
   "source": [
    "### Subtask 2.3: The General Audience and the Critics\n",
    "\n",
    "\n",
    "You might have noticed the column `MetaCritic` in this dataset. This is a very popular website where an average score is determined through the scores given by the top-rated critics. Second, you also have another column `IMDb_rating` which tells you the IMDb rating of a movie. This rating is determined by taking the average of hundred-thousands of ratings from the general audience.\n",
    "\n",
    "As a part of this subtask, you are required to find out the highest rated movies which have been liked by critics and audiences alike.\n",
    "\n",
    "1. Firstly you will notice that the `MetaCritic` score is on a scale of `100` whereas the `IMDb_rating` is on a scale of `10`      First convert the `MetaCritic` column to a scale of 10.\n",
    "2. Now, to find out the movies which have been liked by both critics and audiences alike and also have a high rating overall,      you need to:\n",
    "\n",
    "    - Create a new column `Avg_rating` which will have the average of the `MetaCritic` and `Rating` columns\n",
    "    - Retain only the movies in which the absolute difference(using abs() function) between the `IMDb_rating` and `Metacritic`             columns     is less than 0.5. Refer to this link to know how abs() funtion works - https://www.geeksforgeeks.org/abs-in-python/\n",
    "    - Sort these values in a descending order of `Avg_rating` and retain only the movies with a rating equal to or greater than 8       and    store these movies in a new dataframe `UniversalAcclaim`."
   ]
  },
  {
   "cell_type": "code",
   "execution_count": null,
   "id": "468c0a8c",
   "metadata": {},
   "outputs": [],
   "source": []
  },
  {
   "cell_type": "markdown",
   "id": "2e77844e",
   "metadata": {},
   "source": [
    "### Subtask 2.4: Find the Most Popular Trios - I\n",
    "You're a producer looking to make a blockbuster movie. There will primarily be three lead roles in your movie and you wish to cast the most popular actors for it. Now, since you don't want to take a risk, you will cast a trio which has already acted in together in a movie before. The metric that you've chosen to check the popularity is the Facebook likes of each of these actors.\n",
    "\n",
    "The dataframe has three columns to help you out for the same, viz. `actor_1_facebook_likes`, `actor_2_facebook_likes`, and `actor_3_facebook_likes`. Your objective is to find the trios which has the most number of Facebook likes combined. That is, the sum of `actor_1_facebook_likes`, `actor_2_facebook_likes` and `actor_3_facebook_likes` should be `maximum`. Find out the `top 5` popular trios, and output their `names` in a list."
   ]
  },
  {
   "cell_type": "code",
   "execution_count": null,
   "id": "400307e7",
   "metadata": {},
   "outputs": [],
   "source": []
  },
  {
   "cell_type": "markdown",
   "id": "94dd4297",
   "metadata": {},
   "source": [
    "### Subtask 2.5: Find the Most Popular Trios - II\n",
    "In the previous subtask you found the popular trio based on the total number of facebook likes. Let's add a small condition to it and make sure that all three actors are popular. The condition is none of the three actors' Facebook likes should be less than half of the other two. For example, the following is a valid combo:\n",
    "\n",
    "actor_1_facebook_likes: 70000\n",
    "actor_2_facebook_likes: 40000\n",
    "actor_3_facebook_likes: 50000\n",
    "But the below one is not:\n",
    "\n",
    "actor_1_facebook_likes: 70000\n",
    "actor_2_facebook_likes: 40000\n",
    "actor_3_facebook_likes: 30000\n",
    "since in this case, actor_3_facebook_likes is 30000, which is less than half of actor_1_facebook_likes.\n",
    "\n",
    "Having this condition ensures that you aren't getting any unpopular actor in your trio (since the total likes calculated in the previous question doesn't tell anything about the individual popularities of each actor in the trio.).\n",
    "\n",
    "You can do a manual inspection of the top 5 popular trios you have found in the previous subtask and check how many of those trios satisfy this condition. Also, which is the most popular trio after applying the condition above? Write your answers in the markdown cell provided below?"
   ]
  },
  {
   "cell_type": "code",
   "execution_count": null,
   "id": "ee79d2bd",
   "metadata": {},
   "outputs": [],
   "source": []
  },
  {
   "cell_type": "code",
   "execution_count": null,
   "id": "af2d8c33",
   "metadata": {},
   "outputs": [],
   "source": []
  },
  {
   "cell_type": "markdown",
   "id": "a4d87281",
   "metadata": {},
   "source": [
    "### Subtask 2.6: R-Rated Movies\n",
    "\n",
    "Although R rated movies are restricted movies for the under 18 age group, still there are vote counts from that age group. Among all the R rated movies that have been voted by the under-18 age group, find the top 10 movies that have the highest number of votes i.e`CVotesU18` from the `movies` dataframe. Store these in a dataframe named `PopularR`."
   ]
  },
  {
   "cell_type": "code",
   "execution_count": null,
   "id": "4b41f788",
   "metadata": {},
   "outputs": [],
   "source": []
  },
  {
   "cell_type": "markdown",
   "id": "6c7101c5",
   "metadata": {},
   "source": [
    "## Task 3 : Demographic analysis\n",
    "\n",
    "If you take a look at the last columns in the dataframe, most of these are related to demographics of the voters (in the last subtask, i.e., 2.8, you made use one of these columns - CVotesU18). We also have three genre columns indicating the genres of a particular movie. We will extensively use these columns for the third and the final stage of our assignment wherein we will analyse the voters across all demographics and also see how these vary across various genres. So without further ado, let's get started with demographic analysis.\n",
    "\n",
    "### Subtask 3.1 Dataframe & Genres\n",
    "\n",
    "There are 3 columns in the dataframe - `genre_1`, `genre_2`, and `genre_3`. As a part of this subtask, you need to aggregate a few values over these 3 columns.\n",
    "\n",
    "1. First create a new dataframe `df_by_genre` that contains `genre_1`, `genre_2`, and `genre_3` and all the columns related to `CVotes/Votes` from the `movies` data frame. There are `47` columns to be extracted in total.\n",
    "2. Now, Add a column called `cnt` to the dataframe `df_by_genre` and initialize it to `one`. You will realise the use of this column by the end of this subtask.\n",
    "3. First group the dataframe `df_by_genre` by `genre_1` and find the sum of all the numeric columns such as `cnt`, columns related to `CVotes` and `Votes` columns and store it in a dataframe `df_by_g1`.\n",
    "4. Perform the same operation for `genre_2` and `genre_3` and store it dataframes `df_by_g2` and `df_by_g3` respectively.\n",
    "5. Now that you have 3 dataframes performed by grouping over `genre_1`, `genre_2`, and `genre_3` separately, it's time to combine them. For this, add the three dataframes and store it in a new dataframe `df_add`, so that the corresponding values of `Votes/CVotes` get added for each genre.There is a function called `add()` in pandas which lets you do this. You can refer to this link to see how this function works. https://pandas.pydata.org/pandas-docs/version/0.23.4/generated/pandas.DataFrame.add.html\n",
    "6. The column `cnt` on aggregation has basically kept the track of the number of occurences of each genre.Subset the genres that have atleast 10 movies into a new dataframe `genre_top10` based on the `cnt` column value.\n",
    "7. Now, take the mean of all the numeric columns by dividing them with the column value `cnt` and store it back to the same dataframe. `We will be using this dataframe for further analysis in this task unless it is explicitly mentioned to use the dataframe movies`.\n",
    "8. Since the number of votes can't be a fraction, type cast all the `CVotes` related columns to integers. Also, round off all the `Votes` related columns upto two digits after the decimal point."
   ]
  },
  {
   "cell_type": "code",
   "execution_count": null,
   "id": "eb0c1b86",
   "metadata": {},
   "outputs": [],
   "source": []
  }
 ],
 "metadata": {
  "kernelspec": {
   "display_name": "Python 3 (ipykernel)",
   "language": "python",
   "name": "python3"
  },
  "language_info": {
   "codemirror_mode": {
    "name": "ipython",
    "version": 3
   },
   "file_extension": ".py",
   "mimetype": "text/x-python",
   "name": "python",
   "nbconvert_exporter": "python",
   "pygments_lexer": "ipython3",
   "version": "3.11.5"
  }
 },
 "nbformat": 4,
 "nbformat_minor": 5
}
